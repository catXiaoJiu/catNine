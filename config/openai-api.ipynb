{
 "cells": [
  {
   "cell_type": "code",
   "execution_count": null,
   "id": "7c730af5",
   "metadata": {},
   "outputs": [],
   "source": [
    "import os\n",
    "\n",
    "# Get the XAGENT_OPENAI_KEY from environment variables\n",
    "AGENT_API_KEY = os.getenv('XAGENT_OPENAI_KEY')\n",
    "MODEL_TYPE = \"gpt-3.5-turbo\"\n",
    "\n",
    "# Print the key\n",
    "# print(\"XAGENT_OPENAI_KEY:\", openai_key)"
   ]
  },
  {
   "cell_type": "code",
   "execution_count": null,
   "id": "b1a33019",
   "metadata": {},
   "outputs": [],
   "source": [
    "import requests\n",
    "import os\n",
    "\n",
    "url = \"https://api.openai.com/v1/chat/completions\"\n",
    "headers = {\n",
    "    \"Content-Type\": \"application/json\",\n",
    "    \"Authorization\": f\"Bearer {AGENT_API_KEY}\"\n",
    "}\n",
    "data = {\n",
    "    \"model\": MODEL_TYPE,\n",
    "    \"messages\": [\n",
    "        {\"role\": \"user\", \"content\": \"写一首关于AI的诗\"}\n",
    "    ]\n",
    "}\n",
    "\n",
    "response = requests.post(url, headers=headers, json=data)\n",
    "print(response.json())"
   ]
  },
  {
   "cell_type": "code",
   "execution_count": 2,
   "id": "e5362756-0174-488e-b692-b137553b1a6f",
   "metadata": {},
   "outputs": [
    {
     "name": "stdout",
     "output_type": "stream",
     "text": [
      "MODEL_TYPE: deepseek-chat\n"
     ]
    }
   ],
   "source": [
    "import os\n",
    "import json\n",
    "\n",
    "AGENT_API_KEY = os.getenv('DEEPSEEK_API_KEY')\n",
    "MODEL_TYPE = \"deepseek-chat\"\n",
    "\n",
    "print(\"MODEL_TYPE:\", MODEL_TYPE)"
   ]
  },
  {
   "cell_type": "code",
   "execution_count": 5,
   "id": "6cf894a7-6ecd-40e4-8fe2-0f7063acac26",
   "metadata": {},
   "outputs": [
    {
     "name": "stdout",
     "output_type": "stream",
     "text": [
      "《咏AI》\n",
      "\n",
      "智慧之光耀古今，\n",
      "算法无痕运筹深。\n",
      "数据洪流织锦绣，\n",
      "逻辑网络解迷津。\n",
      "\n",
      "学习迭代无穷尽，\n",
      "创新思维破旧尘。\n",
      "人机共舞新时代，\n",
      "未来之梦已成真。\n",
      "\n",
      "（注：此诗以AI为主题，描绘了其智慧、算法、数据处理及创新能力，并展望了人机协作的美好未来。）\n"
     ]
    }
   ],
   "source": [
    "from openai import OpenAI\n",
    "import json\n",
    "\n",
    "client = OpenAI(api_key=f\"{AGENT_API_KEY}\", base_url=\"https://api.deepseek.com\")\n",
    "response = client.chat.completions.create(\n",
    "    model=\"deepseek-chat\",\n",
    "    messages=[\n",
    "        {\"role\": \"system\", \"content\": \"You are a helpful assistant\"},\n",
    "        {\"role\": \"user\", \"content\": \"写一首关于AI的诗\"},\n",
    "    ],\n",
    "    stream=False\n",
    ")\n",
    "\n",
    "print(response.choices[0].message.content)"
   ]
  },
  {
   "cell_type": "code",
   "execution_count": null,
   "id": "018c44ac-7a60-4773-bf08-a490c8ec91f5",
   "metadata": {},
   "outputs": [],
   "source": []
  }
 ],
 "metadata": {
  "kernelspec": {
   "display_name": "Python 3 (ipykernel)",
   "language": "python",
   "name": "python3"
  },
  "language_info": {
   "codemirror_mode": {
    "name": "ipython",
    "version": 3
   },
   "file_extension": ".py",
   "mimetype": "text/x-python",
   "name": "python",
   "nbconvert_exporter": "python",
   "pygments_lexer": "ipython3",
   "version": "3.12.6"
  }
 },
 "nbformat": 4,
 "nbformat_minor": 5
}
